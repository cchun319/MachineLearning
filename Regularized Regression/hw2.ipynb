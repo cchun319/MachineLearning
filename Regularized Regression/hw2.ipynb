{
  "nbformat": 4,
  "nbformat_minor": 0,
  "metadata": {
    "kernelspec": {
      "display_name": "Python 3",
      "language": "python",
      "name": "python3"
    },
    "language_info": {
      "codemirror_mode": {
        "name": "ipython",
        "version": 3
      },
      "file_extension": ".py",
      "mimetype": "text/x-python",
      "name": "python",
      "nbconvert_exporter": "python",
      "pygments_lexer": "ipython3",
      "version": "3.5.1+"
    },
    "colab": {
      "name": "CIS520_hw2.ipynb",
      "provenance": [],
      "collapsed_sections": [],
      "toc_visible": true
    }
  },
  "cells": [
    {
      "cell_type": "markdown",
      "metadata": {
        "id": "esB_IsP6tXlJ"
      },
      "source": [
        "# Homework 2: Coding\n",
        "\n",
        "**Due Monday September 28th, 11:59pm.**\n",
        "\n",
        "**This assignment can be done individually or in groups of two**\n",
        "\n",
        "**Submit hw2.ipynb to Gradescope (One per group and don't forget to add your partner's name)**"
      ]
    },
    {
      "cell_type": "markdown",
      "metadata": {
        "id": "k7A8_5bKoB06"
      },
      "source": [
        "### Imports and Data"
      ]
    },
    {
      "cell_type": "code",
      "metadata": {
        "id": "NexR8Vb2oB0-"
      },
      "source": [
        "\"\"\"\n",
        "Import required libraries.\n",
        "\n",
        "DON'T comment out these imports when submitting your final hw2.py file.\n",
        "\"\"\"\n",
        "import numpy as np\n",
        "import pandas as pd\n",
        "import time\n",
        "import matplotlib.pyplot as plt\n",
        "from numpy import linalg as LA\n",
        "from numpy.linalg import inv"
      ],
      "execution_count": null,
      "outputs": []
    },
    {
      "cell_type": "code",
      "metadata": {
        "id": "1zjWYTWxb1N0",
        "outputId": "3262683c-72a9-4d70-ba30-80869dc3cc0b",
        "colab": {
          "resources": {
            "http://localhost:8080/nbextensions/google.colab/files.js": {
              "data": "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",
              "ok": true,
              "headers": [
                [
                  "content-type",
                  "application/javascript"
                ]
              ],
              "status": 200,
              "status_text": ""
            }
          },
          "base_uri": "https://localhost:8080/",
          "height": 1000
        }
      },
      "source": [
        "\"\"\"\n",
        "FOR COLAB USERS ONLY\n",
        "\n",
        "Run the following code to upload and unzip the data into the Colab environment.\n",
        "\n",
        "Please comment out *everything* in this cell (including the import) when submitting your .py file.\n",
        "\"\"\"\n",
        "from google.colab import files\n",
        "uploaded = files.upload()\n",
        "! unzip hw2_data.zip"
      ],
      "execution_count": null,
      "outputs": [
        {
          "output_type": "display_data",
          "data": {
            "text/html": [
              "\n",
              "     <input type=\"file\" id=\"files-ca6ba33d-b79c-498b-b39a-b2a22c168f12\" name=\"files[]\" multiple disabled\n",
              "        style=\"border:none\" />\n",
              "     <output id=\"result-ca6ba33d-b79c-498b-b39a-b2a22c168f12\">\n",
              "      Upload widget is only available when the cell has been executed in the\n",
              "      current browser session. Please rerun this cell to enable.\n",
              "      </output>\n",
              "      <script src=\"/nbextensions/google.colab/files.js\"></script> "
            ],
            "text/plain": [
              "<IPython.core.display.HTML object>"
            ]
          },
          "metadata": {
            "tags": []
          }
        },
        {
          "output_type": "stream",
          "text": [
            "Saving hw2_data.zip to hw2_data.zip\n",
            "Archive:  hw2_data.zip\n",
            "   creating: hw2_data/\n",
            "   creating: hw2_data/hw2_data/\n",
            "   creating: hw2_data/hw2_data/Data-set-1/\n",
            "   creating: hw2_data/hw2_data/Data-set-1/Train-subsets/\n",
            "  inflating: hw2_data/hw2_data/Data-set-1/Train-subsets/X_train_10_.txt  \n",
            "  inflating: hw2_data/hw2_data/Data-set-1/Train-subsets/X_train_100_.txt  \n",
            "  inflating: hw2_data/hw2_data/Data-set-1/Train-subsets/X_train_20_.txt  \n",
            "  inflating: hw2_data/hw2_data/Data-set-1/Train-subsets/X_train_30_.txt  \n",
            "  inflating: hw2_data/hw2_data/Data-set-1/Train-subsets/X_train_40_.txt  \n",
            "  inflating: hw2_data/hw2_data/Data-set-1/Train-subsets/X_train_50_.txt  \n",
            "  inflating: hw2_data/hw2_data/Data-set-1/Train-subsets/X_train_60_.txt  \n",
            "  inflating: hw2_data/hw2_data/Data-set-1/Train-subsets/X_train_70_.txt  \n",
            "  inflating: hw2_data/hw2_data/Data-set-1/Train-subsets/X_train_80_.txt  \n",
            "  inflating: hw2_data/hw2_data/Data-set-1/Train-subsets/X_train_90_.txt  \n",
            "  inflating: hw2_data/hw2_data/Data-set-1/Train-subsets/y_train_10_.txt  \n",
            "  inflating: hw2_data/hw2_data/Data-set-1/Train-subsets/y_train_100_.txt  \n",
            "  inflating: hw2_data/hw2_data/Data-set-1/Train-subsets/y_train_20_.txt  \n",
            "  inflating: hw2_data/hw2_data/Data-set-1/Train-subsets/y_train_30_.txt  \n",
            "  inflating: hw2_data/hw2_data/Data-set-1/Train-subsets/y_train_40_.txt  \n",
            "  inflating: hw2_data/hw2_data/Data-set-1/Train-subsets/y_train_50_.txt  \n",
            "  inflating: hw2_data/hw2_data/Data-set-1/Train-subsets/y_train_60_.txt  \n",
            "  inflating: hw2_data/hw2_data/Data-set-1/Train-subsets/y_train_70_.txt  \n",
            "  inflating: hw2_data/hw2_data/Data-set-1/Train-subsets/y_train_80_.txt  \n",
            "  inflating: hw2_data/hw2_data/Data-set-1/Train-subsets/y_train_90_.txt  \n",
            "  inflating: hw2_data/hw2_data/Data-set-1/X_test.txt  \n",
            "  inflating: hw2_data/hw2_data/Data-set-1/X_train.txt  \n",
            "  inflating: hw2_data/hw2_data/Data-set-1/y_test.txt  \n",
            "  inflating: hw2_data/hw2_data/Data-set-1/y_train.txt  \n",
            "   creating: hw2_data/hw2_data/Data-set-2/\n",
            "   creating: hw2_data/hw2_data/Data-set-2/Train-subsets/\n",
            "  inflating: hw2_data/hw2_data/Data-set-2/Train-subsets/X_train_100.txt  \n",
            "  inflating: hw2_data/hw2_data/Data-set-2/Train-subsets/X_train_5.txt  \n",
            "  inflating: hw2_data/hw2_data/Data-set-2/Train-subsets/y_train_100.txt  \n",
            "  inflating: hw2_data/hw2_data/Data-set-2/Train-subsets/y_train_5.txt  \n",
            "   creating: hw2_data/hw2_data/Data-set-2/Cross-validations/\n",
            "  inflating: hw2_data/hw2_data/Data-set-2/Cross-validations/y_5_fold_1_.txt  \n",
            "  inflating: hw2_data/hw2_data/Data-set-2/Cross-validations/y_100_fold_2_.txt  \n",
            "  inflating: hw2_data/hw2_data/Data-set-2/Cross-validations/y_100_fold_3_.txt  \n",
            "  inflating: hw2_data/hw2_data/Data-set-2/Cross-validations/X_100_fold_1_.txt  \n",
            "  inflating: hw2_data/hw2_data/Data-set-2/Cross-validations/X_100_fold_2_.txt  \n",
            "  inflating: hw2_data/hw2_data/Data-set-2/Cross-validations/X_100_fold_3_.txt  \n",
            "  inflating: hw2_data/hw2_data/Data-set-2/Cross-validations/X_100_fold_4_.txt  \n",
            "  inflating: hw2_data/hw2_data/Data-set-2/Cross-validations/X_100_fold_5_.txt  \n",
            "  inflating: hw2_data/hw2_data/Data-set-2/Cross-validations/X_5_fold_1_.txt  \n",
            "  inflating: hw2_data/hw2_data/Data-set-2/Cross-validations/X_5_fold_2_.txt  \n",
            "  inflating: hw2_data/hw2_data/Data-set-2/Cross-validations/X_5_fold_3_.txt  \n",
            "  inflating: hw2_data/hw2_data/Data-set-2/Cross-validations/X_5_fold_4_.txt  \n",
            "  inflating: hw2_data/hw2_data/Data-set-2/Cross-validations/X_5_fold_5_.txt  \n",
            "  inflating: hw2_data/hw2_data/Data-set-2/Cross-validations/y_100_fold_1_.txt  \n",
            "  inflating: hw2_data/hw2_data/Data-set-2/Cross-validations/y_100_fold_4_.txt  \n",
            "  inflating: hw2_data/hw2_data/Data-set-2/Cross-validations/y_100_fold_5_.txt  \n",
            "  inflating: hw2_data/hw2_data/Data-set-2/Cross-validations/y_5_fold_2_.txt  \n",
            "  inflating: hw2_data/hw2_data/Data-set-2/Cross-validations/y_5_fold_3_.txt  \n",
            "  inflating: hw2_data/hw2_data/Data-set-2/Cross-validations/y_5_fold_4_.txt  \n",
            "  inflating: hw2_data/hw2_data/Data-set-2/Cross-validations/y_5_fold_5_.txt  \n",
            "  inflating: hw2_data/hw2_data/Data-set-2/X_test  \n",
            "  inflating: hw2_data/hw2_data/Data-set-2/X_train.txt  \n",
            "  inflating: hw2_data/hw2_data/Data-set-2/y_test  \n",
            "  inflating: hw2_data/hw2_data/Data-set-2/y_train.txt  \n"
          ],
          "name": "stdout"
        }
      ]
    },
    {
      "cell_type": "markdown",
      "metadata": {
        "id": "2weGbLJ2txVd"
      },
      "source": [
        "## Q1: Least Squares Regression\n",
        "\n",
        "Implement the following functions for question 1. Please **do not** use the sklearn implementation of linear regression or other imports beyond those listed above."
      ]
    },
    {
      "cell_type": "markdown",
      "metadata": {
        "id": "r4LiXAOQoB1J"
      },
      "source": [
        "### L1 and L2 error"
      ]
    },
    {
      "cell_type": "code",
      "metadata": {
        "id": "Z0v0785ioB1M"
      },
      "source": [
        "def L2_error(y, y_hat):\n",
        "    \"\"\"\n",
        "    L2 error loss\n",
        "    \n",
        "    Args:\n",
        "    y ((n,1) np.array): actual labels\n",
        "    y_hat ((n,1) np.array): estimated labels\n",
        "    \n",
        "    Returns:\n",
        "        float: L2 error\n",
        "    \"\"\"\n",
        "    L2_error = np.sum(np.square(y - y_hat)) / y.shape[0]\n",
        "    return L2_error\n",
        "\n",
        "\n",
        "\n",
        "def L1_error(y, y_hat):\n",
        "    \"\"\"\n",
        "    L1 error loss\n",
        "    \n",
        "    Args:\n",
        "    y ((n,1) np.array): actual labels\n",
        "    y_hat ((n,1) np.array): estimated labels\n",
        "    \n",
        "    Returns:\n",
        "        float: L1 error\n",
        "    \"\"\"\n",
        "    L1_error = np.sum(np.absolute(y - y_hat)) / y.shape[0]\n",
        "    \n",
        "    return L1_error"
      ],
      "execution_count": null,
      "outputs": []
    },
    {
      "cell_type": "markdown",
      "metadata": {
        "id": "asQPLD_HoB1T"
      },
      "source": [
        "### Least Square Regression"
      ]
    },
    {
      "cell_type": "code",
      "metadata": {
        "id": "JVMYIbQGoB1W"
      },
      "source": [
        "def LinearRegression(train_data, train_labels):\n",
        "    \"\"\"\n",
        "    Runs OLS on the given data.\n",
        "    \n",
        "    Args:\n",
        "        train_data ((n,p) np.array): n is the number of training points and p the number of features\n",
        "        train_labels ((n,1) np.array): training labels for the training data    \n",
        "    \n",
        "    Returns\n",
        "        tuple: (w, b) where w is a (p,1) weight vector, and b the bias term     \n",
        "    \"\"\"\n",
        "\n",
        "    # add feature at front\n",
        "    nr = train_data.shape[0]\n",
        "\n",
        "    const_row = np.ones((nr, 1))\n",
        "\n",
        "    train_data = np.hstack((const_row, train_data)) # n,p + 1\n",
        "\n",
        "    X_t = np.transpose(train_data) # n, p + 1\n",
        "    w = inv(X_t@(train_data))@(X_t)@(train_labels) #( p + 1) x (p + 1) * p + 1 * n * n * 1 -> p + 1 * 1\n",
        "    x_mean = np.mean(train_data, 0)\n",
        "    b = (np.mean(train_labels) - x_mean@w) # n X (p + 1) * (p)\n",
        "    # print(b)\n",
        "    b = w[0,:]\n",
        "    w = w[1:,:]\n",
        "    return (w,b)"
      ],
      "execution_count": null,
      "outputs": []
    },
    {
      "cell_type": "markdown",
      "metadata": {
        "id": "2-MIQRMFoB1j"
      },
      "source": [
        "### Ridge Regression"
      ]
    },
    {
      "cell_type": "code",
      "metadata": {
        "id": "8twOpQynoB1m"
      },
      "source": [
        "def LinearRegressionL2(train_data, train_labels, lambda_):\n",
        "    \"\"\"\n",
        "    Runs linear regression with L2 regularization (ridge) on the given data.\n",
        "    \n",
        "    Args:\n",
        "        train_data ((n,p) np.array): n is the number of training points and p the number of features\n",
        "        train_labels ((n,1) np.array): training labels for the training data    \n",
        "        lambda_  (float): scalar weighting the L2 penalty\n",
        "\n",
        "    Returns\n",
        "        tuple: (w, b) where w is a (p,1) weight vector, and b the bias term  \n",
        "    \"\"\"\n",
        "\n",
        "    nr = train_data.shape[0]\n",
        "    const_row = np.ones((nr, 1))\n",
        "\n",
        "    train_data = np.hstack((const_row, train_data)) # n,p + 1\n",
        "\n",
        "    X_t = np.transpose(train_data)\n",
        "    p = train_data.shape[1]\n",
        "    lambdai = lambda_ * np.identity(p)\n",
        "\n",
        "    x_mean = np.mean(train_data, 0)\n",
        "    w = inv(X_t@(train_data) + lambdai)@X_t@train_labels\n",
        "    b = (np.mean(train_labels) - x_mean@w)\n",
        "    b = w[0,:]\n",
        "\n",
        "    w = w[1:,:]\n",
        "    \n",
        "    return (w,b)"
      ],
      "execution_count": null,
      "outputs": []
    },
    {
      "cell_type": "markdown",
      "metadata": {
        "id": "cOv6gZT-oB10"
      },
      "source": [
        "### Q1.1.1: Learning Curve\n",
        "\n",
        "Use your implementation of (unregularized) least squares regression to learn a regression model from 10$\\%$ of the training data, then 20$\\%$ of the training data, then 30$\\%$ and so on up to 100$\\%$ (separate files containing r$\\%$ of the training examples are provided under the folder for this problem with file names **Data-set-1/Train-subsets/X$\\_$train$\\_$r$\\%$.txt**, and the corresponding labels are provided with the file names **y$\\_$train$\\_$r$\\%$.txt** in the same folder). In each case, measure both the $L_1$ and $L_2$ error on the training examples used, as well as the error on the given test set. Plot a curve showing both errors (on the *y-axis* as a function of the number of training examples used (on the *x-axis*).\n",
        "\n",
        "Add the resulting curve to your Latex document."
      ]
    },
    {
      "cell_type": "code",
      "metadata": {
        "id": "3gGq3BStoB12",
        "outputId": "1a552f29-e7b5-439e-a5b1-41f397d17800",
        "colab": {
          "base_uri": "https://localhost:8080/",
          "height": 295
        }
      },
      "source": [
        "\"\"\"\n",
        "Please remember to comment out all code not contained within a function before \n",
        "submitting your file.\n",
        "\"\"\"\n",
        "\n",
        "X_test = pd.read_csv('/content/hw2_data/hw2_data/Data-set-1/X_test.txt', header=None).values\n",
        "y_test = pd.read_csv('/content/hw2_data/hw2_data/Data-set-1/y_test.txt', header=None).values\n",
        "\n",
        "#TODO your code here: Question 1.1.1.\n",
        "\n",
        "L1_train_errors = [0] * 10\n",
        "L2_train_errors = [0] * 10\n",
        "L1_test_errors = [0] * 10\n",
        "L2_test_errors = [0] * 10\n",
        "\n",
        "for i in range(10):\n",
        "    percent = int((i + 1) * 10)\n",
        "    filename = \"hw2_data/hw2_data/Data-set-1/Train-subsets/X_train_\" + str(percent) + \"_.txt\"\n",
        "    labelname = \"hw2_data/hw2_data/Data-set-1/Train-subsets/y_train_\" + str(percent) + \"_.txt\"\n",
        "    # print(filename)\n",
        "    x_small_test = pd.read_csv(filename, header=None).values\n",
        "    y_small_label = pd.read_csv(labelname, header=None).values\n",
        "\n",
        "    w,b = LinearRegression(x_small_test, y_small_label)\n",
        "    # w,b = LinearRegressionL2(x_small_test, y_small_label, 5)\n",
        "\n",
        "    y_predict = x_small_test.dot(w) + b\n",
        "    L1_train_errors[i] = L1_error(y_small_label, y_predict)\n",
        "    L2_train_errors[i] = L2_error(y_small_label, y_predict)\n",
        "\n",
        "    y_test_predict = X_test.dot(w) + b\n",
        "    L1_test_errors[i] = L1_error(y_test_predict, y_test)\n",
        "    L2_test_errors[i] = L2_error(y_test_predict, y_test)\n",
        "\n",
        "\n",
        "\n",
        "plt.plot(range(10),L1_train_errors, label ='L1_train')\n",
        "plt.plot(range(10),L1_test_errors, label ='L1_test')\n",
        "plt.plot(range(10),L2_train_errors, label = 'L2_train')\n",
        "plt.plot(range(10),L2_test_errors, label = 'L2_test')\n",
        "plt.legend(bbox_to_anchor=(1.05, 1), loc='upper left', borderaxespad=0.)\n",
        "plt.title(\"Learning Curve\")\n",
        "plt.xlabel(\"Percent of Training Data\")\n",
        "plt.xticks(range(10), range(10,101,10))\n",
        "plt.ylabel(\"Error\")\n",
        "plt.show()"
      ],
      "execution_count": null,
      "outputs": [
        {
          "output_type": "display_data",
          "data": {
            "image/png": "[encoded data removed]",
            "text/plain": [
              "<Figure size 432x288 with 1 Axes>"
            ]
          },
          "metadata": {
            "tags": [],
            "needs_background": "light"
          }
        }
      ]
    },
    {
      "cell_type": "markdown",
      "metadata": {
        "id": "giK5b9ukoB1_"
      },
      "source": [
        "### Q1.1.2: Analysis of model learned from full training data\n",
        "\n",
        "Write down the weight and bias terms, $\\hat{w}$ and $\\hat{b}$, learned from the full training data in your Latex document. Also, write down the $L_2$ training and test error of this model. In a single figure, draw a plot of the learned linear function (input instance on the *x-axis* and the predicted value on the *y-axis*), along with a scatter plot depicting the true label associated with each test instance.\n",
        "\n",
        "Add the resulting plot to your Latex document."
      ]
    },
    {
      "cell_type": "code",
      "metadata": {
        "id": "xvVwctBdoB2B",
        "outputId": "74ba384c-b49c-45fa-9665-eee999300001",
        "colab": {
          "base_uri": "https://localhost:8080/",
          "height": 417
        }
      },
      "source": [
        "\"\"\"\n",
        "Please remember to comment out all code not contained within a function before \n",
        "submitting your file.\n",
        "\"\"\"\n",
        "\n",
        "X_test = pd.read_csv('/content/hw2_data/hw2_data/Data-set-1/X_test.txt', header=None).values\n",
        "y_test = pd.read_csv('/content/hw2_data/hw2_data/Data-set-1/y_test.txt', header=None).values\n",
        "X_train = pd.read_csv('/content/hw2_data/hw2_data/Data-set-1/X_train.txt',header=None).values\n",
        "y_train = pd.read_csv('/content/hw2_data/hw2_data/Data-set-1/y_train.txt', header=None).values\n",
        "\n",
        "w,b = LinearRegression(X_train, y_train)\n",
        "\n",
        "#TODO your code here: Question 1.1.2.\n",
        "print(\"w: \\n\" + str(w))\n",
        "print(\"b: \\n\" + str(b))\n",
        "\n",
        "print(\"L2_test_errors: \\n\" + str(L2_error(y_test, X_test.dot(w) + b)))\n",
        "print(\"L2_train_errors: \\n\" + str(L2_error(y_train, X_train.dot(w) + b)))\n",
        "\n",
        "\n",
        "x = np.linspace(0,1)\n",
        "plt.plot(x,(x * w + b).T, color='red')\n",
        "plt.scatter(X_test, y_test)\n",
        "plt.title('Model from Full Training Data')\n",
        "plt.show()"
      ],
      "execution_count": null,
      "outputs": [
        {
          "output_type": "stream",
          "text": [
            "w: \n",
            "[[-2.23442304]]\n",
            "b: \n",
            "[1.16717388]\n",
            "L2_test_errors: \n",
            "0.3347596869735334\n",
            "L2_train_errors: \n",
            "0.2876339586619918\n"
          ],
          "name": "stdout"
        },
        {
          "output_type": "display_data",
          "data": {
            "image/png": "[encoded data removed]",
            "text/plain": [
              "<Figure size 432x288 with 1 Axes>"
            ]
          },
          "metadata": {
            "tags": [],
            "needs_background": "light"
          }
        }
      ]
    },
    {
      "cell_type": "markdown",
      "metadata": {
        "id": "P20rbONVoB2P"
      },
      "source": [
        "### Q1.2.1-2: Regression on different portions of training data\n",
        "\n",
        "#### Regression on 5$\\%$ of the training data. \n",
        "Use your implementation of $L_2$-regularized least squares regression to learn a model on 5$\\%$ of the training data. Select the regularization parameter from the range $\\{$0.1,1,10,50,100,150,200,500,1000,2500,5000$\\}$ using 5-fold cross validation on the relevant training data. Draw a plot showing $\\lambda$ on the *x-axis* and the training, test, and cross validation errors on the *y-axis* using the $L_2$ error. \n",
        "\n",
        "Then record the chosen value of $\\lambda$ along with the weight vector, bias term, and all corresponding errors for the chosen value of $\\lambda$.\n",
        "        \n",
        "#### Regression on 100$\\%$ of the training data.\n",
        "\n",
        "Repeat the above process, but instead learn from the full training data for $L_2$-regularized regression. Plot all of the errors, and record the chosen value of $\\lambda$ along with the weight vector, bias term, and all corresponding errors for the chosen value of $\\lambda$.\n",
        "\n",
        "Add the resulting curves to your Latex document."
      ]
    },
    {
      "cell_type": "code",
      "metadata": {
        "id": "ssEm895ToB2T",
        "outputId": "a11ffddf-e51a-44c3-ea3b-7ddfdf3dc92a",
        "colab": {
          "base_uri": "https://localhost:8080/",
          "height": 1000
        }
      },
      "source": [
        "\"\"\"\n",
        "Please remember to comment out all code not contained within a function before \n",
        "submitting your file.\n",
        "\"\"\"\n",
        "for i in [5, 100]:\n",
        "    lambda_ = [0.1,1,10,50,100,150,200,500,1000,2500,5000]\n",
        "    train_error = [0]*11\n",
        "    test_error = [0]*11\n",
        "    cv_error = [0]*11\n",
        "    cv_error_ole = [0]*11\n",
        "    train_error_ole = [0]*11\n",
        "    test_error_ole = [0]*11\n",
        "    X_test = pd.read_csv('/content/hw2_data/hw2_data/Data-set-2/X_test',header=None).values\n",
        "    y_test = pd.read_csv('/content/hw2_data/hw2_data/Data-set-2/y_test',header=None).values\n",
        "    X_train = pd.read_csv('/content/hw2_data/hw2_data/Data-set-2/Train-subsets/X_train_'+str(i)+'.txt',header=None).values\n",
        "    y_train = pd.read_csv('/content/hw2_data/hw2_data/Data-set-2/Train-subsets/y_train_'+str(i)+'.txt',header=None).values \n",
        "    \n",
        "    indices = np.arange(X_train.shape[0])\n",
        "    # print(indices)\n",
        "    np.random.shuffle(indices)\n",
        "    # print(\"shuttfledid: \\n\" + str(indices))\n",
        "    cv_arrays = np.array_split(indices, 5)\n",
        "\n",
        "    #TODO your code here: Question 1.2.1-2\n",
        "    for j in range(11):\n",
        "\n",
        "      cv_e = float(\"inf\")\n",
        "      w_model = 0\n",
        "      b_model = 0\n",
        "\n",
        "      w_model_ole = 0\n",
        "      b_model_ole = 0\n",
        "      for k in range(5):\n",
        "        # take one fold out of 5\n",
        "        X_cv = X_train[cv_arrays[k], :]\n",
        "        y_cv = y_train[cv_arrays[k], :]\n",
        "        \n",
        "        # find the remaining data for trainning\n",
        "        full_indices = np.arange(X_train.shape[0])\n",
        "        train_indices = np.setdiff1d(full_indices, cv_arrays[k])\n",
        "        # print(\"cvid: \\n\" + str(cv_arrays[k]))\n",
        "        # print(\"trid: \\n\" + str(train_indices))\n",
        "\n",
        "        # remove the cv data in train data\n",
        "        X_train_test_removed = X_train[train_indices,:]\n",
        "        y_train_test_removed = y_train[train_indices,:]\n",
        "\n",
        "        # train the model\n",
        "        w, b = LinearRegressionL2(X_train_test_removed, y_train_test_removed, lambda_[j])\n",
        "        w_ole, b_ole = LinearRegression(X_train_test_removed, y_train_test_removed)\n",
        "\n",
        "        # update the error\n",
        "        cv_error[j] = cv_error[j] + L2_error(X_cv.dot(w) + b, y_cv) / 5\n",
        "        cv_error_ole[j] = cv_error_ole[j] + L2_error(X_cv.dot(w_ole) + b_ole, y_cv) / 5\n",
        "\n",
        "\n",
        "      # record train error and test error\n",
        "      w_model, b_model = LinearRegressionL2(X_train, y_train, lambda_[j])\n",
        "      train_error[j] = L2_error(X_train.dot(w_model) + b_model, y_train)\n",
        "      test_error[j] = L2_error(X_test.dot(w_model) + b_model, y_test)\n",
        "\n",
        "      #ole error\n",
        "      w_model_ole, b_model_ole = LinearRegression(X_train, y_train)\n",
        "      train_error_ole[j] = L2_error(X_train.dot(w_model_ole) + b_model_ole, y_train)\n",
        "      test_error_ole[j] = L2_error(X_test.dot(w_model_ole) + b_model_ole, y_test)\n",
        "\n",
        "    plt.plot(range(11), train_error, label='training error')\n",
        "    plt.plot(range(11),cv_error, label = 'cv error')\n",
        "    plt.plot(range(11), test_error, label = 'test error')\n",
        "    plt.legend(bbox_to_anchor=(1.05, 1), loc='upper left', borderaxespad=0.)\n",
        "    plt.title('Regression on ' + str(i) + '% of the training data')\n",
        "    plt.ylabel('L2 error')\n",
        "    plt.xlabel('Lambda Value')\n",
        "    plt.xticks(range(11), lambda_)\n",
        "    plt.show()\n",
        "\n",
        "    print(\"cv_error: \\n\" + str(cv_error))\n",
        "    print(\"test_error: \\n\" + str(test_error))\n",
        "    print(\"train_error: \\n\" + str(train_error))\n",
        "\n",
        "    print(\"cv_error_ole: \\n\" + str(cv_error_ole))\n",
        "    print(\"test_error_ole: \\n\" + str(test_error_ole))\n",
        "    print(\"train_error_ole: \\n\" + str(train_error_ole))\n"
      ],
      "execution_count": null,
      "outputs": [
        {
          "output_type": "display_data",
          "data": {
            "image/png": "[encoded data removed]",
            "text/plain": [
              "<Figure size 432x288 with 1 Axes>"
            ]
          },
          "metadata": {
            "tags": [],
            "needs_background": "light"
          }
        },
        {
          "output_type": "stream",
          "text": [
            "cv_error: \n",
            "[11666912140.425587, 11582957902.360575, 10273629736.28219, 9594652945.130398, 10332597964.743017, 11006836055.820835, 11528102328.389885, 13035051670.293373, 13790968588.03818, 14300152957.18968, 14439371230.98948]\n",
            "test_error: \n",
            "[8255936497.914656, 8270167561.606681, 7770291365.616216, 7409012371.580251, 7864915599.539839, 8374668342.797168, 8815732406.262098, 10312894769.677258, 11213587808.636236, 11972355674.73379, 12357179923.154728]\n",
            "train_error: \n",
            "[4325932832.396014, 4395779168.566407, 4467538400.740283, 5105768167.205793, 5851114217.924572, 6423921573.487231, 6866129295.607997, 8227702792.210438, 8997020034.15, 9616436495.45098, 9890565878.70046]\n",
            "cv_error_ole: \n",
            "[8233681399.353473, 8233681399.353473, 8233681399.353473, 8233681399.353473, 8233681399.353473, 8233681399.353473, 8233681399.353473, 8233681399.353473, 8233681399.353473, 8233681399.353473, 8233681399.353473]\n",
            "test_error_ole: \n",
            "[6551865327.657595, 6551865327.657595, 6551865327.657595, 6551865327.657595, 6551865327.657595, 6551865327.657595, 6551865327.657595, 6551865327.657595, 6551865327.657595, 6551865327.657595, 6551865327.657595]\n",
            "train_error_ole: \n",
            "[3136422722.5897346, 3136422722.5897346, 3136422722.5897346, 3136422722.5897346, 3136422722.5897346, 3136422722.5897346, 3136422722.5897346, 3136422722.5897346, 3136422722.5897346, 3136422722.5897346, 3136422722.5897346]\n"
          ],
          "name": "stdout"
        },
        {
          "output_type": "display_data",
          "data": {
            "image/png": "[encoded data removed]",
            "text/plain": [
              "<Figure size 432x288 with 1 Axes>"
            ]
          },
          "metadata": {
            "tags": [],
            "needs_background": "light"
          }
        },
        {
          "output_type": "stream",
          "text": [
            "cv_error: \n",
            "[5566577227.134795, 5796118357.861247, 5834375988.81171, 5841252201.135811, 5854309023.196014, 5874844951.325416, 5901595884.451564, 6139858415.744233, 6627263789.908614, 7840454108.153941, 8983665703.536852]\n",
            "test_error: \n",
            "[4779113710.38501, 5085917142.10758, 5140362023.070935, 5145521926.092962, 5153582075.375314, 5168390967.294122, 5189189156.542317, 5398537529.50063, 5882470572.6202545, 7261088883.824786, 8729560727.963617]\n",
            "train_error: \n",
            "[5420387242.799575, 5672911090.822707, 5719931595.154094, 5727552702.241252, 5737206364.69285, 5751407891.79079, 5769682321.3064575, 5936632231.162081, 6304427852.632534, 7335736497.736451, 8434101073.891234]\n",
            "cv_error_ole: \n",
            "[5306975417.872025, 5306975417.872025, 5306975417.872025, 5306975417.872025, 5306975417.872025, 5306975417.872025, 5306975417.872025, 5306975417.872025, 5306975417.872025, 5306975417.872025, 5306975417.872025]\n",
            "test_error_ole: \n",
            "[4440306252.2278385, 4440306252.2278385, 4440306252.2278385, 4440306252.2278385, 4440306252.2278385, 4440306252.2278385, 4440306252.2278385, 4440306252.2278385, 4440306252.2278385, 4440306252.2278385, 4440306252.2278385]\n",
            "train_error_ole: \n",
            "[5196213031.014056, 5196213031.014056, 5196213031.014056, 5196213031.014056, 5196213031.014056, 5196213031.014056, 5196213031.014056, 5196213031.014056, 5196213031.014056, 5196213031.014056, 5196213031.014056]\n"
          ],
          "name": "stdout"
        }
      ]
    },
    {
      "cell_type": "code",
      "metadata": {
        "id": "hnxBTIMX4gIx",
        "outputId": "b08a7a7f-1e5c-4841-e50f-c66917424cfd",
        "colab": {
          "base_uri": "https://localhost:8080/",
          "height": 198
        }
      },
      "source": [
        ""
      ],
      "execution_count": null,
      "outputs": [
        {
          "output_type": "error",
          "ename": "TypeError",
          "evalue": "ignored",
          "traceback": [
            "\u001b[0;31m---------------------------------------------------------------------------\u001b[0m",
            "\u001b[0;31mTypeError\u001b[0m                                 Traceback (most recent call last)",
            "\u001b[0;32m<ipython-input-42-751b1ebcb707>\u001b[0m in \u001b[0;36m<module>\u001b[0;34m()\u001b[0m\n\u001b[0;32m----> 1\u001b[0;31m \u001b[0mprint\u001b[0m\u001b[0;34m(\u001b[0m\u001b[0;34m\"cv_error: \\n\"\u001b[0m \u001b[0;34m+\u001b[0m \u001b[0mstr\u001b[0m\u001b[0;34m(\u001b[0m\u001b[0mcv_error\u001b[0m \u001b[0;34m-\u001b[0m \u001b[0mcv_error_ole\u001b[0m\u001b[0;34m)\u001b[0m\u001b[0;34m)\u001b[0m\u001b[0;34m\u001b[0m\u001b[0;34m\u001b[0m\u001b[0m\n\u001b[0m\u001b[1;32m      2\u001b[0m \u001b[0mprint\u001b[0m\u001b[0;34m(\u001b[0m\u001b[0;34m\"test_error: \\n\"\u001b[0m \u001b[0;34m+\u001b[0m \u001b[0mstr\u001b[0m\u001b[0;34m(\u001b[0m\u001b[0mtest_error\u001b[0m \u001b[0;34m-\u001b[0m \u001b[0mtest_error_ole\u001b[0m\u001b[0;34m)\u001b[0m\u001b[0;34m)\u001b[0m\u001b[0;34m\u001b[0m\u001b[0;34m\u001b[0m\u001b[0m\n\u001b[1;32m      3\u001b[0m \u001b[0mprint\u001b[0m\u001b[0;34m(\u001b[0m\u001b[0;34m\"train_error: \\n\"\u001b[0m \u001b[0;34m+\u001b[0m \u001b[0mstr\u001b[0m\u001b[0;34m(\u001b[0m\u001b[0mtrain_error\u001b[0m \u001b[0;34m-\u001b[0m \u001b[0mtrain_error_ole\u001b[0m\u001b[0;34m)\u001b[0m\u001b[0;34m)\u001b[0m\u001b[0;34m\u001b[0m\u001b[0;34m\u001b[0m\u001b[0m\n",
            "\u001b[0;31mTypeError\u001b[0m: unsupported operand type(s) for -: 'list' and 'list'"
          ]
        }
      ]
    },
    {
      "cell_type": "markdown",
      "metadata": {
        "id": "0zkrzJ8LYWNv"
      },
      "source": [
        "### Q1.2 Report on Latex\n",
        "Answer the following questions on Latex in the respective section.\n",
        "\n",
        "1.2.3 For each of the two training sets considered above (5$\\%$ and 100$\\%$), compare the training and test errors of the models learned using unregularized least squares regression and ridge regression. What can you conclude from this about the value of regularization for small and large training sets?\n",
        "\n",
        "1.2.4 For each of the two training sets considered above (5$\\%$ and 100$\\%$), Which $\\lambda$ should be larger by theory?why? Do those values align with the conclusion you made in part 1.3?\n"
      ]
    },
    {
      "cell_type": "markdown",
      "metadata": {
        "id": "XOST5QSSXcCR"
      },
      "source": [
        "## Q2: Batch Gradient Descent\n"
      ]
    },
    {
      "cell_type": "markdown",
      "metadata": {
        "id": "3FG2ga9IoB1q"
      },
      "source": [
        "### Gradient Descent Linear Regression"
      ]
    },
    {
      "cell_type": "code",
      "metadata": {
        "id": "1iOD4J1noB1t"
      },
      "source": [
        "def LinearRegressionGD(train_data, train_labels, iters, learning_rate):\n",
        "    \"\"\"\n",
        "    Args:\n",
        "        train_data ((n,p) np.array): n is the number of training points and p the number of features\n",
        "        train_labels ((n,1) np.array): training labels for the training data \n",
        "        iters (int): the number of iterations to run Gradient Descent\n",
        "        learning_rate (float): the alpha value for gradient descent\n",
        "\n",
        "    Returns\n",
        "        tuple: (w, b) where w is a (p,1) weight vector, and b the bias term \n",
        "    \"\"\"\n",
        "    N = train_data.shape[0]\n",
        "    p = train_data.shape[1] # number of feature\n",
        "\n",
        "    w = np.zeros((p, 1))\n",
        "    b = 0\n",
        "\n",
        "    for i in range(iters): \n",
        "      costs = train_data.dot(w) + b - train_labels # all costs n, 1\n",
        "      # n x m, n x 1 --> n x m\n",
        "      # sum the weight and average -> update the new weights\n",
        "      weight_avg = np.sum(train_data * costs, 0) / N # 1 x p \n",
        "      w = w - 2 * learning_rate * np.transpose(weight_avg)\n",
        "      b = b - 2 * learning_rate * np.sum(costs, 0) / N\n",
        "\n",
        "    \n",
        "    return (w, b)"
      ],
      "execution_count": null,
      "outputs": []
    },
    {
      "cell_type": "markdown",
      "metadata": {
        "id": "GxQ_BL9IoB2q"
      },
      "source": [
        "### Q2.1-2.2: OLS and Gradient Descent Runtime\n",
        "\n",
        "2.1) Time  the  closed-form  unregularized  linear  regression  implementation  you  wrote  inprevious section on the full training data for Data Set 1.  Write down the weight and bias terms,  ˆwandˆb, learned from the full training data, as well as theL2error on the test data, and the time it took torun the full process.\n",
        "\n",
        "2.2) Time the gradient descent implementation you just wrote on the full training data for Data Set 1 with iterations from range $\\{$10, 100, 1000$\\}$, and a learning rate of 0.01. Write down the weight and bias terms , $\\hat{w}$ and $\\hat{b}$, learned from the full training data in your Latex document, as well as the $L_2$ error on the test data, and the time it took to run the full process. "
      ]
    },
    {
      "cell_type": "code",
      "metadata": {
        "id": "dtVVF2hGoB2t",
        "outputId": "3cfc8f98-431d-4d8f-e8d9-19b24d316527",
        "colab": {
          "base_uri": "https://localhost:8080/",
          "height": 425
        }
      },
      "source": [
        "\"\"\"\n",
        "Please remember to comment out all code not contained within a function before \n",
        "submitting your file.\n",
        "\"\"\"\n",
        "\n",
        "X_test = pd.read_csv('/content/hw2_data/hw2_data/Data-set-1/X_test.txt', header=None).values\n",
        "y_test = pd.read_csv('/content/hw2_data/hw2_data/Data-set-1/y_test.txt', header=None).values\n",
        "X_train = pd.read_csv('/content/hw2_data/hw2_data/Data-set-1/X_train.txt', header=None).values\n",
        "y_train = pd.read_csv('/content/hw2_data/hw2_data/Data-set-1/y_train.txt', header=None).values\n",
        "\n",
        "start = time.time()\n",
        "(w,b) = LinearRegression(X_train, y_train)\n",
        "y_test_pred = np.matmul(X_test, w) + b\n",
        "y_train_pred = np.matmul(X_train, w) + b\n",
        "\n",
        "\n",
        "# L2_error(y_test, y_test_pred)\n",
        "print(\"--- OLS Closed Form ---\")\n",
        "print(\"W:\", w.T, \"B:\", b)\n",
        "print(\"L2 Training Error:\", L2_error(y_train, y_train_pred))\n",
        "print(\"L2 Test Error:\", L2_error(y_test, y_test_pred))\n",
        "print(\"Time:\", time.time() - start)\n",
        "print()\n",
        "\n",
        "time_arr = [100,1000,2000]\n",
        "for i in range(len(time_arr)):\n",
        "  print(str(time_arr[i]) + \" iterations\")\n",
        "  start = time.time()\n",
        "  (w,b) = LinearRegressionGD(X_train, y_train, time_arr[i], .01)\n",
        "\n",
        "  y_test_pred = np.matmul(X_test, w) + b\n",
        "  y_train_pred = np.matmul(X_train, w) + b\n",
        "  # #L2_error(y_test, y_test_pred)\n",
        "  print(\"---  Gradient Descent ---\")\n",
        "  print(\"W:\", w, \"B:\", b)\n",
        "  print(\"L2 Training Error:\", L2_error(y_train, y_train_pred))\n",
        "  print(\"L2 Test Error:\", L2_error(y_test, y_test_pred))\n",
        "  print(\"Time:\", time.time() - start)"
      ],
      "execution_count": null,
      "outputs": [
        {
          "output_type": "stream",
          "text": [
            "--- OLS Closed Form ---\n",
            "W: [[-2.23442304]] B: [1.16717388]\n",
            "L2 Training Error: 0.2876339586619918\n",
            "L2 Test Error: 0.3347596869735334\n",
            "Time: 0.003926992416381836\n",
            "\n",
            "100 iterations\n",
            "---  Gradient Descent ---\n",
            "W: [[-0.26961946]] B: [0.10995921]\n",
            "L2 Training Error: 0.5911173532001397\n",
            "L2 Test Error: 0.5897357152996778\n",
            "Time: 0.008636236190795898\n",
            "1000 iterations\n",
            "---  Gradient Descent ---\n",
            "W: [[-1.57947694]] B: [0.81379186]\n",
            "L2 Training Error: 0.3213964163657431\n",
            "L2 Test Error: 0.3484509604983921\n",
            "Time: 0.053145647048950195\n",
            "2000 iterations\n",
            "---  Gradient Descent ---\n",
            "W: [[-2.04105781]] B: [1.06284194]\n",
            "L2 Training Error: 0.2905768871751107\n",
            "L2 Test Error: 0.33135516029916695\n",
            "Time: 0.1015324592590332\n"
          ],
          "name": "stdout"
        }
      ]
    },
    {
      "cell_type": "markdown",
      "metadata": {
        "id": "e57oBdHBa4i0"
      },
      "source": [
        "### Q2.3 Report on Latex\n",
        "Answer the followings question on Latex in the respective section.\n",
        "\n",
        "Which algorithm runs faster? Why might that be the case? Why would we ever use gradient descent linear regression in practice while a closed form solution exists?"
      ]
    },
    {
      "cell_type": "markdown",
      "metadata": {
        "id": "iqECw4f6LJCx"
      },
      "source": [
        "## Turning it in\n",
        "\n",
        "\n",
        "**Remember to recomment all script portions of this notebook before submitting (i.e. any code not in a function, excluding code that imports libraries). This is to ensure that the Autograder works properly. Also make sure you did not edit other sections of the code outside of specified areas.**\n",
        "\n",
        "1. Download this notebook as a `hw2.ipynb` file with the functions implemented and the sandbox code commented out\n",
        "  - If using Google Colab, go to \"File -> Download .ipynb\"\n",
        "  - If using Jupyter locally, go to \"File -> Download as -> Notebook (.ipynb)\"\n",
        "  \n",
        "2. Submit `hw2.ipynb` file to Gradescope (you can do this as many times as you'd like before the deadline)"
      ]
    }
  ]
}